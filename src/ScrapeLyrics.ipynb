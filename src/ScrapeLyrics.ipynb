{
 "cells": [
  {
   "cell_type": "code",
   "execution_count": 42,
   "metadata": {},
   "outputs": [],
   "source": [
    "# -*- coding: utf-8 -*-\n",
    "\"\"\"\n",
    "Created on Sat Jan 26 12:51:08 2019\n",
    "A jupyter notebook that can be used to visualize how to scrape genius website for lyrics for \n",
    "@author: Roy Angelo Saavedra\n",
    "\"\"\"\n",
    "# Load the Library\n",
    "import requests\n",
    "import json\n",
    "import pandas as pd\n",
    "from pandas.io.json import json_normalize\n",
    "import os\n",
    "\n",
    "# Load the Token \n",
    "TOKEN = 'fJ4NznrGcAKh-LRqz6mPmmfDIOlXuhV1HdU2FWUVfp6NDxzmqrv_9YRmDu7JlOzw'\n",
    "\n",
    "# Build a wrapper for song info\n",
    "def request_song_info(song_title, artist_name):\n",
    "    base_url = 'https://api.genius.com'\n",
    "    headers = {'Authorization': 'Bearer ' + str(TOKEN)}\n",
    "    search_url = base_url + '/search'\n",
    "    data = {'q': song_title + ' ' + artist_name}\n",
    "    response = requests.get(search_url, params=data, headers=headers)\n",
    "\n",
    "    return response\n",
    "\n",
    "# Search for matches in the request response\n",
    "response = request_song_info(\"Nikes\", \"Frank Ocean\")\n",
    "json = response.json()"
   ]
  },
  {
   "cell_type": "code",
   "execution_count": 43,
   "metadata": {},
   "outputs": [],
   "source": [
    "data = pd.DataFrame()\n",
    "for hit in json['response']['hits']:\n",
    "    data = data.append(hit['result'],ignore_index=True)\n",
    "data['Lyrics'] = 'Default'"
   ]
  },
  {
   "cell_type": "code",
   "execution_count": 44,
   "metadata": {},
   "outputs": [],
   "source": [
    "from bs4 import BeautifulSoup\n",
    "def scrap_song_url(url):\n",
    "    print(url)\n",
    "    page = requests.get(url)\n",
    "    html = BeautifulSoup(page.text, 'html.parser')\n",
    "    lyrics = html.find('div', class_='lyrics').get_text()\n",
    "    return lyrics"
   ]
  },
  {
   "cell_type": "code",
   "execution_count": 55,
   "metadata": {},
   "outputs": [
    {
     "name": "stdout",
     "output_type": "stream",
     "text": [
      "https://genius.com/Frank-ocean-nikes-lyrics\n",
      "https://genius.com/Brock-chenier-12-12-songs-annotated\n",
      "https://genius.com/Genius-deutschland-die-lieblingsopener-der-community-annotated\n",
      "https://genius.com/Drxw-soty-list-2016-lyrics\n",
      "https://genius.com/Frank-ocean-nikes-video-version-lyrics\n",
      "https://genius.com/Genius-the-50-best-songs-of-2016-ranking-page-annotated\n",
      "https://genius.com/Frank-ocean-blonded-radio-episode-6-tracklist-lyrics\n",
      "https://genius.com/Brendan-frederick-my-top-albums-and-songs-of-2016-annotated\n",
      "https://genius.com/Pitchfork-the-best-music-videos-of-2016-annotated\n"
     ]
    }
   ],
   "source": [
    "temp = pd.DataFrame()\n",
    "stat = pd.DataFrame()\n",
    "for index,url in enumerate(data['url']):\n",
    "    lyrics = scrap_song_url(data.iat[index,15])\n",
    "    lyrics = lyrics.rstrip('\\n')\n",
    "    lyrics = lyrics.lstrip()\n",
    "    lyrics = lyrics.rstrip()\n",
    "    data.iat[index,16]= lyrics\n",
    "    temp = temp.append(json_normalize(data['primary_artist'][index]),ignore_index=True)\n",
    "    stat = stat.append(json_normalize(data['stats'][index]),ignore_index=True)\n",
    "frames = [data,stat,temp]\n",
    "results = pd.concat(frames,axis=1)\n",
    "results.to_csv(\"../data/Lyrics.csv\",index=False)\n"
   ]
  },
  {
   "cell_type": "code",
   "execution_count": null,
   "metadata": {},
   "outputs": [],
   "source": [
    "results"
   ]
  }
 ],
 "metadata": {
  "kernelspec": {
   "display_name": "Python 3",
   "language": "python",
   "name": "python3"
  },
  "language_info": {
   "codemirror_mode": {
    "name": "ipython",
    "version": 3
   },
   "file_extension": ".py",
   "mimetype": "text/x-python",
   "name": "python",
   "nbconvert_exporter": "python",
   "pygments_lexer": "ipython3",
   "version": "3.6.1"
  }
 },
 "nbformat": 4,
 "nbformat_minor": 2
}
